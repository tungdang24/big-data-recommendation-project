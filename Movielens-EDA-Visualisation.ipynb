1. Data Cleaning
# Import packages for calcs & visualisations
import numpy as np
import pandas as pd
import category_encoders as ce
# Data visualization
import seaborn as sns
import missingno
import matplotlib.pyplot as plt
%matplotlib inline

import warnings
warnings.filterwarnings('ignore')
