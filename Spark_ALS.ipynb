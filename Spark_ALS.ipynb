{
  "nbformat": 4,
  "nbformat_minor": 0,
  "metadata": {
    "colab": {
      "provenance": [],
      "toc_visible": true
    },
    "kernelspec": {
      "name": "python3",
      "display_name": "Python 3"
    },
    "language_info": {
      "name": "python"
    }
  },
  "cells": [
    {
      "cell_type": "markdown",
      "source": [
        "# **Building a Scalable Movie Recommendation System Using Apache Spark**\n",
        "\n",
        "1. Load and preprocess dataset\n",
        "2. Implement, Train and Evaluate ALS model\n",
        "3. Optimize model\n",
        "4. Recommendations with ALS\n"
      ],
      "metadata": {
        "id": "_LYuHimkQ5bY"
      }
    },
    {
      "cell_type": "code",
      "source": [
        "from pyspark.sql import SparkSession\n",
        "from pyspark.sql.functions import col, sum, when, explode\n",
        "from pyspark.ml.recommendation import ALS\n",
        "from pyspark.ml.evaluation import RegressionEvaluator\n",
        "from pyspark.sql.functions import from_unixtime, year, month, dayofweek\n",
        "from pyspark.sql.functions import regexp_extract, split, explode\n",
        "from google.colab import drive"
      ],
      "metadata": {
        "id": "EY_s4aemUxy6"
      },
      "execution_count": null,
      "outputs": []
    },
    {
      "cell_type": "markdown",
      "source": [
        "## 1. Load and preprocess dataset in Spark\n",
        "\n",
        "---\n",
        "\n"
      ],
      "metadata": {
        "id": "Eu56rKzeSDEK"
      }
    },
    {
      "cell_type": "code",
      "source": [
        "# Mount Google Drive\n",
        "drive.mount('/content/drive')"
      ],
      "metadata": {
        "colab": {
          "base_uri": "https://localhost:8080/"
        },
        "id": "9XNRXToks4B8",
        "outputId": "4082eede-117d-4998-b7e7-137def4df8c6"
      },
      "execution_count": null,
      "outputs": [
        {
          "output_type": "stream",
          "name": "stdout",
          "text": [
            "Mounted at /content/drive\n"
          ]
        }
      ]
    },
    {
      "cell_type": "code",
      "execution_count": null,
      "metadata": {
        "id": "kDhh4BalQG6l"
      },
      "outputs": [],
      "source": [
        "# Start Spark Session\n",
        "spark = SparkSession.builder.appName(\"MovieLens 1M\").getOrCreate()"
      ]
    },
    {
      "cell_type": "code",
      "source": [
        "# Download and unzip the MovieLens 1M dataset\n",
        "!wget https://files.grouplens.org/datasets/movielens/ml-1m.zip\n",
        "!unzip -o ml-1m.zip\n"
      ],
      "metadata": {
        "colab": {
          "base_uri": "https://localhost:8080/"
        },
        "id": "INnEReo_U8zV",
        "outputId": "3f0f2eac-9790-4041-8a42-e03ed092fa25"
      },
      "execution_count": null,
      "outputs": [
        {
          "output_type": "stream",
          "name": "stdout",
          "text": [
            "--2025-05-29 13:41:18--  https://files.grouplens.org/datasets/movielens/ml-1m.zip\n",
            "Resolving files.grouplens.org (files.grouplens.org)... 128.101.65.152\n",
            "Connecting to files.grouplens.org (files.grouplens.org)|128.101.65.152|:443... connected.\n",
            "HTTP request sent, awaiting response... 200 OK\n",
            "Length: 5917549 (5.6M) [application/zip]\n",
            "Saving to: ‘ml-1m.zip’\n",
            "\n",
            "ml-1m.zip           100%[===================>]   5.64M  15.8MB/s    in 0.4s    \n",
            "\n",
            "2025-05-29 13:41:19 (15.8 MB/s) - ‘ml-1m.zip’ saved [5917549/5917549]\n",
            "\n",
            "Archive:  ml-1m.zip\n",
            "   creating: ml-1m/\n",
            "  inflating: ml-1m/movies.dat        \n",
            "  inflating: ml-1m/ratings.dat       \n",
            "  inflating: ml-1m/README            \n",
            "  inflating: ml-1m/users.dat         \n"
          ]
        }
      ]
    },
    {
      "cell_type": "code",
      "source": [
        "# Ratings: userId, movieId, rating, timestamp\n",
        "ratings_df = spark.read.csv(\"ml-1m/ratings.dat\", sep=\"::\", inferSchema=True, header=False)\n",
        "ratings_df = ratings_df.withColumnRenamed(\"_c0\", \"userId\") \\\n",
        "                       .withColumnRenamed(\"_c1\", \"movieId\") \\\n",
        "                       .withColumnRenamed(\"_c2\", \"rating\") \\\n",
        "                       .withColumnRenamed(\"_c3\", \"timestamp\")\n",
        "\n",
        "# Users: userId, gender, age, occupation, zip\n",
        "users_df = spark.read.csv(\"ml-1m/users.dat\", sep=\"::\", inferSchema=True, header=False)\n",
        "users_df = users_df.withColumnRenamed(\"_c0\", \"userId\") \\\n",
        "                   .withColumnRenamed(\"_c1\", \"gender\") \\\n",
        "                   .withColumnRenamed(\"_c2\", \"age\") \\\n",
        "                   .withColumnRenamed(\"_c3\", \"occupation\") \\\n",
        "                   .withColumnRenamed(\"_c4\", \"zip\")\n",
        "\n",
        "# Movies: movieId, title, genres\n",
        "movies_df = spark.read.csv(\"ml-1m/movies.dat\", sep=\"::\", inferSchema=True, header=False)\n",
        "movies_df = movies_df.withColumnRenamed(\"_c0\", \"movieId\") \\\n",
        "                     .withColumnRenamed(\"_c1\", \"title\") \\\n",
        "                     .withColumnRenamed(\"_c2\", \"genres\")"
      ],
      "metadata": {
        "id": "ibxPxcY_V-ig"
      },
      "execution_count": null,
      "outputs": []
    },
    {
      "cell_type": "code",
      "source": [
        "# Check null value - Ratings\n",
        "null_counts = ratings_df.select([\n",
        "    sum(when(col(c).isNull(), 1).otherwise(0)).alias(c)\n",
        "    for c in ratings_df.columns\n",
        "])\n",
        "\n",
        "null_counts.show()"
      ],
      "metadata": {
        "id": "Gscpj9CMWD-5",
        "outputId": "496b8b54-6247-4fef-a6f1-4a4e19bde741",
        "colab": {
          "base_uri": "https://localhost:8080/"
        }
      },
      "execution_count": null,
      "outputs": [
        {
          "output_type": "stream",
          "name": "stdout",
          "text": [
            "+------+-------+------+---------+\n",
            "|userId|movieId|rating|timestamp|\n",
            "+------+-------+------+---------+\n",
            "|     0|      0|     0|        0|\n",
            "+------+-------+------+---------+\n",
            "\n"
          ]
        }
      ]
    },
    {
      "cell_type": "code",
      "source": [
        "# Check null value - Users\n",
        "null_counts = users_df.select([\n",
        "    sum(when(col(c).isNull(), 1).otherwise(0)).alias(c)\n",
        "    for c in users_df.columns\n",
        "])\n",
        "\n",
        "null_counts.show()"
      ],
      "metadata": {
        "colab": {
          "base_uri": "https://localhost:8080/"
        },
        "id": "IWxzSewLhOIJ",
        "outputId": "7afd8101-bf27-4971-f7a0-9c3392bf5398"
      },
      "execution_count": null,
      "outputs": [
        {
          "output_type": "stream",
          "name": "stdout",
          "text": [
            "+------+------+---+----------+---+\n",
            "|userId|gender|age|occupation|zip|\n",
            "+------+------+---+----------+---+\n",
            "|     0|     0|  0|         0|  0|\n",
            "+------+------+---+----------+---+\n",
            "\n"
          ]
        }
      ]
    },
    {
      "cell_type": "code",
      "source": [
        "# Check null value - Movies\n",
        "null_counts = movies_df.select([\n",
        "    sum(when(col(c).isNull(), 1).otherwise(0)).alias(c)\n",
        "    for c in movies_df.columns\n",
        "])\n",
        "\n",
        "null_counts.show()"
      ],
      "metadata": {
        "colab": {
          "base_uri": "https://localhost:8080/"
        },
        "id": "gE9XRplmiM55",
        "outputId": "2d21a280-9b75-4210-c130-7f6b06dcf043"
      },
      "execution_count": null,
      "outputs": [
        {
          "output_type": "stream",
          "name": "stdout",
          "text": [
            "+-------+-----+------+\n",
            "|movieId|title|genres|\n",
            "+-------+-----+------+\n",
            "|      0|    0|     0|\n",
            "+-------+-----+------+\n",
            "\n"
          ]
        }
      ]
    },
    {
      "cell_type": "code",
      "source": [
        "users_df.show(5)"
      ],
      "metadata": {
        "colab": {
          "base_uri": "https://localhost:8080/"
        },
        "id": "guZA5pAvo7lg",
        "outputId": "148ebddb-2677-4a9f-e873-de65040b4304"
      },
      "execution_count": null,
      "outputs": [
        {
          "output_type": "stream",
          "name": "stdout",
          "text": [
            "+------+------+---+----------+-----+\n",
            "|userId|gender|age|occupation|  zip|\n",
            "+------+------+---+----------+-----+\n",
            "|     1|     F|  1|        10|48067|\n",
            "|     2|     M| 56|        16|70072|\n",
            "|     3|     M| 25|        15|55117|\n",
            "|     4|     M| 45|         7|02460|\n",
            "|     5|     M| 25|        20|55455|\n",
            "+------+------+---+----------+-----+\n",
            "only showing top 5 rows\n",
            "\n"
          ]
        }
      ]
    },
    {
      "cell_type": "code",
      "source": [
        "# ratings_df — Add Time Features\n",
        "ratings_df = ratings_df.withColumn(\"datetime\", from_unixtime(\"timestamp\")) \\\n",
        "                       .withColumn(\"rating_year\", year(\"datetime\")) \\\n",
        "                       .withColumn(\"rating_month\", month(\"datetime\")) \\\n",
        "                       .withColumn(\"rating_dayofweek\", dayofweek(\"datetime\"))\n",
        "\n",
        "# movies_df — Parse Genres and Year\n",
        "movies_df = movies_df.withColumn(\"year\", regexp_extract(\"title\", r\"\\((\\d{4})\\)\", 1).cast(\"int\"))\n",
        "movies_df = movies_df.withColumn(\"clean_title\", regexp_extract(\"title\", r\"^(.*)\\s\\(\\d{4}\\)$\", 1))\n",
        "movies_df = movies_df.withColumn(\"genre_array\", split(\"genres\", \"\\\\|\"))\n",
        "\n",
        "# Join ratings with users\n",
        "ratings_users = ratings_df.join(users_df, on=\"userId\", how=\"left\")\n",
        "\n",
        "# Join with movies\n",
        "full_df = ratings_users.join(movies_df, on=\"movieId\", how=\"left\")\n"
      ],
      "metadata": {
        "id": "5JiIY4_6y9bb"
      },
      "execution_count": null,
      "outputs": []
    },
    {
      "cell_type": "code",
      "source": [
        "def calculate_precision_recall(predictions, threshold=4.0):\n",
        "    predictions = predictions.withColumn(\"relevant\", when(col(\"rating\") >= threshold, 1).otherwise(0))\n",
        "    predictions = predictions.withColumn(\"recommended\", when(col(\"prediction\") >= threshold, 1).otherwise(0))\n",
        "\n",
        "    tp = predictions.filter((col(\"relevant\") == 1) & (col(\"recommended\") == 1)).count()\n",
        "    fp = predictions.filter((col(\"relevant\") == 0) & (col(\"recommended\") == 1)).count()\n",
        "    fn = predictions.filter((col(\"relevant\") == 1) & (col(\"recommended\") == 0)).count()\n",
        "\n",
        "    precision = tp / (tp + fp) if (tp + fp) > 0 else 0.0\n",
        "    recall = tp / (tp + fn) if (tp + fn) > 0 else 0.0\n",
        "\n",
        "    return precision, recall"
      ],
      "metadata": {
        "id": "YKWKX2BIYMlr"
      },
      "execution_count": null,
      "outputs": []
    },
    {
      "cell_type": "markdown",
      "source": [
        "## 2. Implement, Train and Evaluate ALS model\n",
        "\n",
        "---\n",
        "\n"
      ],
      "metadata": {
        "id": "o4q-yn3RjqeH"
      }
    },
    {
      "cell_type": "code",
      "source": [
        "# Select ALS-required columns\n",
        "als_input = ratings_df.select(\"userId\", \"movieId\", \"rating\")\n",
        "\n",
        "# Split into training/test\n",
        "(training, test) = als_input.randomSplit([0.8, 0.2])\n",
        "\n",
        "# Initialize ALS model\n",
        "als = ALS(\n",
        "    userCol=\"userId\",\n",
        "    itemCol=\"movieId\",\n",
        "    ratingCol=\"rating\",\n",
        "    rank=10,\n",
        "    maxIter=10,\n",
        "    regParam=0.1,\n",
        "    coldStartStrategy=\"drop\",\n",
        "    nonnegative=True\n",
        ")"
      ],
      "metadata": {
        "id": "ptJnRRISlxTA"
      },
      "execution_count": null,
      "outputs": []
    },
    {
      "cell_type": "code",
      "source": [
        "# Fit model\n",
        "model = als.fit(training)\n",
        "\n",
        "# Make predictions\n",
        "predictions = model.transform(test)\n",
        "\n",
        "# Evaluate\n",
        "evaluator = RegressionEvaluator(\n",
        "    metricName=\"rmse\",\n",
        "    labelCol=\"rating\",\n",
        "    predictionCol=\"prediction\"\n",
        ")\n",
        "rmse = evaluator.evaluate(predictions)\n",
        "\n",
        "evaluator_mae = RegressionEvaluator(\n",
        "    metricName=\"mae\",\n",
        "    labelCol=\"rating\",\n",
        "    predictionCol=\"prediction\"\n",
        ")\n",
        "mae = evaluator_mae.evaluate(predictions)\n",
        "\n",
        "evaluator_r2 = RegressionEvaluator(\n",
        "    metricName=\"r2\",\n",
        "    labelCol=\"rating\",\n",
        "    predictionCol=\"prediction\"\n",
        ")\n",
        "r2 = evaluator_r2.evaluate(predictions)\n",
        "\n",
        "# Calculate Precision and Recall\n",
        "precision, recall = calculate_precision_recall(predictions, threshold=4.0)\n",
        "\n",
        "print(f\"Root-mean-square error = {rmse:.4f}\")\n",
        "print(f\"MAE = {mae:.4f}\")\n",
        "print(f\"R² = {r2:.4f}\")\n",
        "print(f\"Precision = {precision:.4f}\")\n",
        "print(f\"Recall = {recall:.4f}\")"
      ],
      "metadata": {
        "colab": {
          "base_uri": "https://localhost:8080/"
        },
        "id": "qJmmKfnzmlZK",
        "outputId": "ef3b4e2b-2632-4be2-933b-82333bda67c6"
      },
      "execution_count": null,
      "outputs": [
        {
          "output_type": "stream",
          "name": "stdout",
          "text": [
            "Root-mean-square error = 0.8751\n",
            "MAE = 0.7018\n",
            "R² = 0.3881\n",
            "Precision = 0.9144\n",
            "Recall = 0.2976\n"
          ]
        }
      ]
    },
    {
      "cell_type": "markdown",
      "source": [
        "## 3. Optimize model\n",
        "\n",
        "---\n"
      ],
      "metadata": {
        "id": "K-CdFc6KnAs9"
      }
    },
    {
      "cell_type": "code",
      "source": [
        "from pyspark.ml.tuning import ParamGridBuilder\n",
        "from pyspark.ml.evaluation import RegressionEvaluator\n",
        "import matplotlib.pyplot as plt\n",
        "\n",
        "# Define hyperparameter grids\n",
        "rank_values = [5, 10]\n",
        "max_iter_values = [5, 10, 15]\n",
        "reg_param_values = [0.01, 0.1, 0.5]\n",
        "\n",
        "# Initialize lists to store results\n",
        "results = []  # To store (rank, maxIter, regParam, rmse, mae, r2, precision, recall) for each combination\n",
        "\n",
        "# Select ALS-required columns\n",
        "als_input = ratings_df.select(\"userId\", \"movieId\", \"rating\")\n",
        "\n",
        "# Split into training/test\n",
        "(training, test) = als_input.randomSplit([0.8, 0.2])\n",
        "\n",
        "# Grid search over all combinations\n",
        "for rank in rank_values:\n",
        "    for max_iter in max_iter_values:\n",
        "        for reg_param in reg_param_values:\n",
        "            # Initialize ALS model\n",
        "            als = ALS(\n",
        "                userCol=\"userId\",\n",
        "                itemCol=\"movieId\",\n",
        "                ratingCol=\"rating\",\n",
        "                rank=rank,\n",
        "                maxIter=max_iter,\n",
        "                regParam=reg_param,\n",
        "                coldStartStrategy=\"drop\",\n",
        "                nonnegative=True\n",
        "            )\n",
        "\n",
        "            # Fit the model\n",
        "            model = als.fit(training)\n",
        "\n",
        "            # Make predictions\n",
        "            predictions = model.transform(test)\n",
        "\n",
        "            # Evaluate RMSE\n",
        "            evaluator_rmse = RegressionEvaluator(\n",
        "                metricName=\"rmse\",\n",
        "                labelCol=\"rating\",\n",
        "                predictionCol=\"prediction\"\n",
        "            )\n",
        "            rmse = evaluator_rmse.evaluate(predictions)\n",
        "\n",
        "            # Evaluate MAE\n",
        "            evaluator_mae = RegressionEvaluator(\n",
        "                metricName=\"mae\",\n",
        "                labelCol=\"rating\",\n",
        "                predictionCol=\"prediction\"\n",
        "            )\n",
        "            mae = evaluator_mae.evaluate(predictions)\n",
        "\n",
        "            # Evaluate R²\n",
        "            evaluator_r2 = RegressionEvaluator(\n",
        "                metricName=\"r2\",\n",
        "                labelCol=\"rating\",\n",
        "                predictionCol=\"prediction\"\n",
        "            )\n",
        "            r2 = evaluator_r2.evaluate(predictions)\n",
        "\n",
        "            # Calculate Precision and Recall\n",
        "            precision, recall = calculate_precision_recall(predictions, threshold=4.0)\n",
        "\n",
        "            # Store results\n",
        "            results.append((rank, max_iter, reg_param, rmse, mae, r2, precision, recall))\n",
        "\n",
        "            # Print results for each combination\n",
        "            print(f\"rank={rank}, maxIter={max_iter}, regParam={reg_param}\")\n",
        "            print(f\"Precision = {precision:.4f}\")\n",
        "            print(f\"Recall = {recall:.4f}\")\n",
        "            print(f\"RMSE = {rmse:.4f}\")\n",
        "            print(f\"MAE = {mae:.4f}\")\n",
        "            print(f\"R² = {r2:.4f}\")\n",
        "            print(\"---\")"
      ],
      "metadata": {
        "colab": {
          "base_uri": "https://localhost:8080/"
        },
        "id": "TmygCv30Rfa7",
        "outputId": "5dddca12-70e0-4797-ab6c-da1e986f567b"
      },
      "execution_count": null,
      "outputs": [
        {
          "output_type": "stream",
          "name": "stdout",
          "text": [
            "rank=5, maxIter=5, regParam=0.01\n",
            "Precision = 0.8751\n",
            "Recall = 0.3869\n",
            "RMSE = 0.8845\n",
            "MAE = 0.6992\n",
            "R² = 0.3691\n",
            "---\n",
            "rank=5, maxIter=5, regParam=0.1\n",
            "Precision = 0.9244\n",
            "Recall = 0.2099\n",
            "RMSE = 0.9110\n",
            "MAE = 0.7391\n",
            "R² = 0.3306\n",
            "---\n",
            "rank=5, maxIter=5, regParam=0.5\n",
            "Precision = 0.9324\n",
            "Recall = 0.0817\n",
            "RMSE = 1.0229\n",
            "MAE = 0.8460\n",
            "R² = 0.1561\n",
            "---\n",
            "rank=5, maxIter=10, regParam=0.01\n",
            "Precision = 0.8768\n",
            "Recall = 0.4108\n",
            "RMSE = 0.8722\n",
            "MAE = 0.6876\n",
            "R² = 0.3864\n",
            "---\n",
            "rank=5, maxIter=10, regParam=0.1\n",
            "Precision = 0.9082\n",
            "Recall = 0.2930\n",
            "RMSE = 0.8819\n",
            "MAE = 0.7079\n",
            "R² = 0.3727\n",
            "---\n",
            "rank=5, maxIter=10, regParam=0.5\n",
            "Precision = 0.9347\n",
            "Recall = 0.0655\n",
            "RMSE = 1.0405\n",
            "MAE = 0.8632\n",
            "R² = 0.1268\n",
            "---\n",
            "rank=5, maxIter=15, regParam=0.01\n",
            "Precision = 0.8768\n",
            "Recall = 0.4220\n",
            "RMSE = 0.8687\n",
            "MAE = 0.6839\n",
            "R² = 0.3914\n",
            "---\n",
            "rank=5, maxIter=15, regParam=0.1\n",
            "Precision = 0.9013\n",
            "Recall = 0.3235\n",
            "RMSE = 0.8751\n",
            "MAE = 0.6997\n",
            "R² = 0.3824\n",
            "---\n",
            "rank=5, maxIter=15, regParam=0.5\n",
            "Precision = 0.9350\n",
            "Recall = 0.0649\n",
            "RMSE = 1.0413\n",
            "MAE = 0.8639\n",
            "R² = 0.1255\n",
            "---\n",
            "rank=10, maxIter=5, regParam=0.01\n",
            "Precision = 0.8645\n",
            "Recall = 0.4393\n",
            "RMSE = 0.8862\n",
            "MAE = 0.6940\n",
            "R² = 0.3666\n",
            "---\n",
            "rank=10, maxIter=5, regParam=0.1\n",
            "Precision = 0.9273\n",
            "Recall = 0.2212\n",
            "RMSE = 0.9022\n",
            "MAE = 0.7311\n",
            "R² = 0.3435\n",
            "---\n",
            "rank=10, maxIter=5, regParam=0.5\n",
            "Precision = 0.9328\n",
            "Recall = 0.0805\n",
            "RMSE = 1.0242\n",
            "MAE = 0.8472\n",
            "R² = 0.1540\n",
            "---\n",
            "rank=10, maxIter=10, regParam=0.01\n",
            "Precision = 0.8685\n",
            "Recall = 0.4583\n",
            "RMSE = 0.8763\n",
            "MAE = 0.6849\n",
            "R² = 0.3806\n",
            "---\n",
            "rank=10, maxIter=10, regParam=0.1\n",
            "Precision = 0.9132\n",
            "Recall = 0.2988\n",
            "RMSE = 0.8741\n",
            "MAE = 0.7012\n",
            "R² = 0.3838\n",
            "---\n",
            "rank=10, maxIter=10, regParam=0.5\n",
            "Precision = 0.9346\n",
            "Recall = 0.0655\n",
            "RMSE = 1.0406\n",
            "MAE = 0.8632\n",
            "R² = 0.1267\n",
            "---\n",
            "rank=10, maxIter=15, regParam=0.01\n",
            "Precision = 0.8692\n",
            "Recall = 0.4640\n",
            "RMSE = 0.8715\n",
            "MAE = 0.6808\n",
            "R² = 0.3874\n",
            "---\n",
            "rank=10, maxIter=15, regParam=0.1\n",
            "Precision = 0.9083\n",
            "Recall = 0.3291\n",
            "RMSE = 0.8665\n",
            "MAE = 0.6926\n",
            "R² = 0.3944\n",
            "---\n",
            "rank=10, maxIter=15, regParam=0.5\n",
            "Precision = 0.9350\n",
            "Recall = 0.0649\n",
            "RMSE = 1.0413\n",
            "MAE = 0.8639\n",
            "R² = 0.1255\n",
            "---\n"
          ]
        }
      ]
    },
    {
      "cell_type": "code",
      "source": [
        "# Find the best model based on the lowest RMSE\n",
        "best_result = min(results, key=lambda x: x[3])  # x[3] is RMSE\n",
        "best_rank, best_max_iter, best_reg_param, best_rmse, best_mae, best_r2, best_precision, best_recall = best_result\n",
        "\n",
        "print(f\"Best Model: rank={best_rank}, maxIter={best_max_iter}, regParam={best_reg_param}\")\n",
        "print(f\"Best RMSE = {best_rmse:.4f}\")\n",
        "print(f\"Best MAE = {best_mae:.4f}\")\n",
        "print(f\"Best R² = {best_r2:.4f}\")\n",
        "print(f\"Best Precision = {best_precision:.4f}\")\n",
        "print(f\"Best Recall = {best_recall:.4f}\")"
      ],
      "metadata": {
        "colab": {
          "base_uri": "https://localhost:8080/"
        },
        "id": "T_-ZYC0HR2nD",
        "outputId": "3dd19ab1-44e8-4799-a18f-7c845517e524"
      },
      "execution_count": null,
      "outputs": [
        {
          "output_type": "stream",
          "name": "stdout",
          "text": [
            "Best Model: rank=10, maxIter=15, regParam=0.1\n",
            "Best RMSE = 0.8665\n",
            "Best MAE = 0.6926\n",
            "Best R² = 0.3944\n",
            "Best Precision = 0.9083\n",
            "Best Recall = 0.3291\n"
          ]
        }
      ]
    },
    {
      "cell_type": "code",
      "source": [
        "import matplotlib.pyplot as plt\n",
        "\n",
        "# Assuming results and best_result are defined from your grid search\n",
        "# Extract metrics for plotting\n",
        "ranks = [r[0] for r in results]\n",
        "max_iters = [r[1] for r in results]\n",
        "reg_params = [r[2] for r in results]\n",
        "rmses = [r[3] for r in results]\n",
        "maes = [r[4] for r in results]\n",
        "r2s = [r[5] for r in results]\n",
        "precisions = [r[6] for r in results]\n",
        "recalls = [r[7] for r in results]\n",
        "\n",
        "# Find the index of the best model (based on RMSE)\n",
        "best_idx = results.index(best_result)\n",
        "\n",
        "plt.figure(figsize=(10, 6))\n",
        "plt.plot(range(len(results)), precisions, label=\"Precision\", marker='o', color='#1f77b4', alpha=0.3)\n",
        "plt.plot(range(len(results)), recalls, label=\"Recall\", marker='s', color='#ff7f0e', alpha=0.3)\n",
        "plt.plot(range(len(results)), rmses, label=\"RMSE\", marker='^', color='#2ca02c', alpha=0.3)\n",
        "plt.plot(range(len(results)), maes, label=\"MAE\", marker='*', color='#d62728', alpha=0.3)\n",
        "plt.plot(range(len(results)), r2s, label=\"R²\", marker='x', color='#9467bd', alpha=0.3)\n",
        "\n",
        "# Highlight the best model\n",
        "plt.plot(best_idx, precisions[best_idx], marker='o', color='blue', markersize=10, label=\"Best Precision\")\n",
        "plt.plot(best_idx, recalls[best_idx], marker='s', color='orange', markersize=10, label=\"Best Recall\")\n",
        "plt.plot(best_idx, rmses[best_idx], marker='^', color='green', markersize=10, label=\"Best RMSE\")\n",
        "plt.plot(best_idx, maes[best_idx], marker='*', color='red', markersize=10, label=\"Best MAE\")\n",
        "plt.plot(best_idx, r2s[best_idx], marker='x', color='purple', markersize=10, label=\"Best R²\")\n",
        "\n",
        "plt.xlabel(\"Model Combination Index\")\n",
        "plt.ylabel(\"Metric Value\")\n",
        "plt.title(\"Model Performance vs Hyperparameter Combinations (Best Model Highlighted)\")\n",
        "plt.legend()\n",
        "plt.grid(True)\n",
        "plt.show()"
      ],
      "metadata": {
        "colab": {
          "base_uri": "https://localhost:8080/",
          "height": 564
        },
        "id": "F7z3-TeMR2lJ",
        "outputId": "2ea56416-55aa-453c-9516-f10937f37145"
      },
      "execution_count": null,
      "outputs": [
        {
          "output_type": "display_data",
          "data": {
            "text/plain": [
              "<Figure size 1000x600 with 1 Axes>"
            ],
            "image/png": "[encoded data removed]"
          },
          "metadata": {}
        }
      ]
    },
    {
      "cell_type": "markdown",
      "source": [
        "## 4. Recommendations with ALS\n",
        "\n",
        "---\n"
      ],
      "metadata": {
        "id": "fy158hRInQhU"
      }
    },
    {
      "cell_type": "code",
      "source": [
        "# Top 10 movies for each users\n",
        "user_recommendations = model.recommendForAllUsers(10)\n",
        "\n",
        "# Or: Top 10 users for each movies\n",
        "movie_recommendations = model.recommendForAllItems(10)"
      ],
      "metadata": {
        "id": "2I4geFr4vq_U"
      },
      "execution_count": null,
      "outputs": []
    },
    {
      "cell_type": "code",
      "source": [
        "# Show top 10 movies and ratings for first 5 users\n",
        "user_recommendations.show(5, truncate=False)"
      ],
      "metadata": {
        "colab": {
          "base_uri": "https://localhost:8080/"
        },
        "id": "ux-bq_90v4_C",
        "outputId": "f9f3bbf7-2ad5-477b-b901-1642d68b45ed"
      },
      "execution_count": null,
      "outputs": [
        {
          "output_type": "stream",
          "name": "stdout",
          "text": [
            "+------+-----------------------------------------------------------------------------------------------------------------------------------------------------------------------------------------+\n",
            "|userId|recommendations                                                                                                                                                                          |\n",
            "+------+-----------------------------------------------------------------------------------------------------------------------------------------------------------------------------------------+\n",
            "|1     |[{3382, 6.3756404}, {557, 4.8772187}, {989, 4.6178493}, {1471, 4.529534}, {578, 4.51008}, {787, 4.4664664}, {3233, 4.452823}, {2503, 4.440986}, {3607, 4.42256}, {3245, 4.382984}]       |\n",
            "|3     |[{3382, 6.0458055}, {557, 4.6249027}, {989, 4.3789515}, {1471, 4.295205}, {578, 4.2767577}, {787, 4.2354007}, {3233, 4.2224627}, {2503, 4.2112374}, {3607, 4.1937656}, {3245, 4.1562366}]|\n",
            "|5     |[{3382, 5.052091}, {557, 3.8647335}, {989, 3.659208}, {1471, 3.5892262}, {578, 3.5738113}, {787, 3.5392516}, {3233, 3.5284407}, {2503, 3.5190606}, {3607, 3.50446}, {3245, 3.4730995}]   |\n",
            "|6     |[{3382, 6.00811}, {557, 4.5960655}, {989, 4.351648}, {1471, 4.2684236}, {578, 4.2500916}, {787, 4.2089925}, {3233, 4.1961355}, {2503, 4.18498}, {3607, 4.167617}, {3245, 4.130322}]      |\n",
            "|9     |[{3382, 5.9513326}, {557, 4.552633}, {989, 4.310525}, {1471, 4.228087}, {578, 4.209928}, {787, 4.169217}, {3233, 4.1564817}, {2503, 4.145432}, {3607, 4.128233}, {3245, 4.0912905}]      |\n",
            "+------+-----------------------------------------------------------------------------------------------------------------------------------------------------------------------------------------+\n",
            "only showing top 5 rows\n",
            "\n"
          ]
        }
      ]
    },
    {
      "cell_type": "code",
      "source": [
        "# Explode the 'recommendations' array and extract movieId and predicted rating\n",
        "recs_exploded = user_recommendations.withColumn(\"rec\", explode(\"recommendations\")) \\\n",
        "    .select(\"userId\", col(\"rec.movieId\").alias(\"movieId\"), col(\"rec.rating\").alias(\"predicted_rating\"))\n",
        "\n",
        "# Join with the movies DataFrame to add movie titles to the recommendations.\n",
        "recommendation_with_titles = recs_exploded.join(movies_df.select(\"movieId\", \"title\"), on=\"movieId\", how=\"left\")\n",
        "\n",
        "# Display the top 10 recommendations for each user, ordered by predicted rating\n",
        "recommendation_with_titles.orderBy(\"userId\", \"predicted_rating\", ascending=False).show(10, truncate=False)"
      ],
      "metadata": {
        "colab": {
          "base_uri": "https://localhost:8080/"
        },
        "id": "cFvGHzzBwAaj",
        "outputId": "482ba1a5-1577-4e86-aa7a-ccb798d00918"
      },
      "execution_count": null,
      "outputs": [
        {
          "output_type": "stream",
          "name": "stdout",
          "text": [
            "+-------+------+----------------+------------------------------------------------+\n",
            "|movieId|userId|predicted_rating|title                                           |\n",
            "+-------+------+----------------+------------------------------------------------+\n",
            "|1002   |6040  |4.6521387       |Ed's Next Move (1996)                           |\n",
            "|2760   |6040  |4.598718        |Gambler, The (A J�t�kos) (1997)                 |\n",
            "|2503   |6040  |4.5470777       |Apple, The (Sib) (1998)                         |\n",
            "|2931   |6040  |4.534244        |Time of the Gypsies (Dom za vesanje) (1989)     |\n",
            "|3415   |6040  |4.507103        |Mirror, The (Zerkalo) (1975)                    |\n",
            "|3817   |6040  |4.493934        |Other Side of Sunday, The (S�ndagsengler) (1996)|\n",
            "|3134   |6040  |4.488155        |Grand Illusion (Grande illusion, La) (1937)     |\n",
            "|2925   |6040  |4.468696        |Conformist, The (Il Conformista) (1970)         |\n",
            "|3532   |6040  |4.446922        |Freedom for Us (� nous la libert� ) (1931)      |\n",
            "|53     |6040  |4.446257        |Lamerica (1994)                                 |\n",
            "+-------+------+----------------+------------------------------------------------+\n",
            "only showing top 10 rows\n",
            "\n"
          ]
        }
      ]
    },
    {
      "cell_type": "code",
      "source": [
        "# Show top 10 recommendations movies for userId = 1 with titles\n",
        "recommendation_with_titles.show(10, truncate=False)"
      ],
      "metadata": {
        "colab": {
          "base_uri": "https://localhost:8080/"
        },
        "id": "d6nPncuPyBC2",
        "outputId": "3c500c8a-f2aa-46a1-c93e-134890f6eddb"
      },
      "execution_count": null,
      "outputs": [
        {
          "output_type": "stream",
          "name": "stdout",
          "text": [
            "+-------+------+----------------+-------------------------------------------------------+\n",
            "|movieId|userId|predicted_rating|title                                                  |\n",
            "+-------+------+----------------+-------------------------------------------------------+\n",
            "|572    |1     |5.554469        |Foreign Student (1994)                                 |\n",
            "|1851   |1     |4.8592935       |Leather Jacket Love Story (1997)                       |\n",
            "|2776   |1     |4.760738        |Marcello Mastroianni: I Remember Yes, I Remember (1997)|\n",
            "|3233   |1     |4.7156014       |Smashing Time (1967)                                   |\n",
            "|527    |1     |4.5603824       |Schindler's List (1993)                                |\n",
            "|2931   |1     |4.5535135       |Time of the Gypsies (Dom za vesanje) (1989)            |\n",
            "|318    |1     |4.5166492       |Shawshank Redemption, The (1994)                       |\n",
            "|858    |1     |4.473865        |Godfather, The (1972)                                  |\n",
            "|1002   |1     |4.44604         |Ed's Next Move (1996)                                  |\n",
            "|3245   |1     |4.435878        |I Am Cuba (Soy Cuba/Ya Kuba) (1964)                    |\n",
            "+-------+------+----------------+-------------------------------------------------------+\n",
            "only showing top 10 rows\n",
            "\n"
          ]
        }
      ]
    },
    {
      "cell_type": "code",
      "source": [
        "# Define path in Google Drive (ensure the directory doesn't already exist)\n",
        "model_path = \"/content/drive/MyDrive/\"\n",
        "\n",
        "# Save model to Drive\n",
        "model.save(model_path)"
      ],
      "metadata": {
        "id": "DG5x15w2tmYF"
      },
      "execution_count": null,
      "outputs": []
    }
  ]
}